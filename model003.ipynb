{
 "cells": [
  {
   "cell_type": "code",
   "execution_count": 1,
   "metadata": {},
   "outputs": [],
   "source": [
    "from learnlibs.preproc import *\n",
    "from learnlibs.meanfill import *\n",
    "from learnlibs.model import *\n",
    "from learnlibs.read_data import *\n",
    "from learnlibs.featuretransf import *"
   ]
  },
  {
   "cell_type": "code",
   "execution_count": 2,
   "metadata": {},
   "outputs": [
    {
     "name": "stdout",
     "output_type": "stream",
     "text": [
      "((43849, 28), (18793, 28))\n"
     ]
    }
   ],
   "source": [
    "df = loader(\"Levels_Fyi_Salary_Data.csv\")\n",
    "train, test = df.split()\n",
    "print(f'{train.shape, test.shape}')"
   ]
  },
  {
   "cell_type": "code",
   "execution_count": 3,
   "metadata": {},
   "outputs": [
    {
     "name": "stdout",
     "output_type": "stream",
     "text": [
      "<class 'pandas.core.frame.DataFrame'>\n",
      "Index: 18793 entries, 11/15/2020 15:08:13 to 7/18/2021 13:44:14\n",
      "Data columns (total 28 columns):\n",
      " #   Column                   Non-Null Count  Dtype  \n",
      "---  ------                   --------------  -----  \n",
      " 0   company                  18793 non-null  object \n",
      " 1   level                    18751 non-null  object \n",
      " 2   title                    18793 non-null  object \n",
      " 3   totalyearlycompensation  18793 non-null  int64  \n",
      " 4   location                 18793 non-null  object \n",
      " 5   yearsofexperience        18793 non-null  float64\n",
      " 6   yearsatcompany           18793 non-null  float64\n",
      " 7   tag                      18510 non-null  object \n",
      " 8   basesalary               18793 non-null  float64\n",
      " 9   stockgrantvalue          18793 non-null  float64\n",
      " 10  bonus                    18793 non-null  float64\n",
      " 11  gender                   12981 non-null  object \n",
      " 12  otherdetails             12013 non-null  object \n",
      " 13  cityid                   18793 non-null  int64  \n",
      " 14  dmaid                    18793 non-null  float64\n",
      " 15  rowNumber                18793 non-null  int64  \n",
      " 16  Masters_Degree           18793 non-null  int64  \n",
      " 17  Bachelors_Degree         18793 non-null  int64  \n",
      " 18  Doctorate_Degree         18793 non-null  int64  \n",
      " 19  Highschool               18793 non-null  int64  \n",
      " 20  Some_College             18793 non-null  int64  \n",
      " 21  Race_Asian               18793 non-null  int64  \n",
      " 22  Race_White               18793 non-null  int64  \n",
      " 23  Race_Two_Or_More         18793 non-null  int64  \n",
      " 24  Race_Black               18793 non-null  int64  \n",
      " 25  Race_Hispanic            18793 non-null  int64  \n",
      " 26  Race                     6755 non-null   object \n",
      " 27  Education                9070 non-null   object \n",
      "dtypes: float64(6), int64(13), object(9)\n",
      "memory usage: 4.2+ MB\n"
     ]
    }
   ],
   "source": [
    "test.info()"
   ]
  },
  {
   "cell_type": "code",
   "execution_count": 4,
   "metadata": {},
   "outputs": [
    {
     "data": {
      "text/plain": [
       "['__class__',\n",
       " '__delattr__',\n",
       " '__dict__',\n",
       " '__dir__',\n",
       " '__doc__',\n",
       " '__eq__',\n",
       " '__format__',\n",
       " '__ge__',\n",
       " '__getattribute__',\n",
       " '__gt__',\n",
       " '__hash__',\n",
       " '__init__',\n",
       " '__init_subclass__',\n",
       " '__le__',\n",
       " '__lt__',\n",
       " '__module__',\n",
       " '__ne__',\n",
       " '__new__',\n",
       " '__reduce__',\n",
       " '__reduce_ex__',\n",
       " '__repr__',\n",
       " '__setattr__',\n",
       " '__sizeof__',\n",
       " '__str__',\n",
       " '__subclasshook__',\n",
       " '__weakref__',\n",
       " 'fill_means']"
      ]
     },
     "execution_count": 4,
     "metadata": {},
     "output_type": "execute_result"
    }
   ],
   "source": [
    "dir(nan_filler)"
   ]
  },
  {
   "cell_type": "code",
   "execution_count": 5,
   "metadata": {},
   "outputs": [
    {
     "ename": "AttributeError",
     "evalue": "'nan_filler' object has no attribute 'fill_unavailable'",
     "output_type": "error",
     "traceback": [
      "\u001b[0;31m---------------------------------------------------------------------------\u001b[0m",
      "\u001b[0;31mAttributeError\u001b[0m                            Traceback (most recent call last)",
      "Cell \u001b[0;32mIn [5], line 2\u001b[0m\n\u001b[1;32m      1\u001b[0m a\u001b[39m=\u001b[39mnan_filler(test)\n\u001b[0;32m----> 2\u001b[0m a\u001b[39m.\u001b[39;49mfill_unavailable([\u001b[39m'\u001b[39m\u001b[39mRace\u001b[39m\u001b[39m'\u001b[39m])\n",
      "\u001b[0;31mAttributeError\u001b[0m: 'nan_filler' object has no attribute 'fill_unavailable'"
     ]
    }
   ],
   "source": [
    "a=nan_filler(test)\n",
    "a.fill_unavailable(['Race'])"
   ]
  },
  {
   "cell_type": "code",
   "execution_count": null,
   "metadata": {},
   "outputs": [
    {
     "ename": "AttributeError",
     "evalue": "'nan_filler' object has no attribute 'fill_unavailable'",
     "output_type": "error",
     "traceback": [
      "\u001b[0;31m---------------------------------------------------------------------------\u001b[0m",
      "\u001b[0;31mAttributeError\u001b[0m                            Traceback (most recent call last)",
      "Cell \u001b[0;32mIn [9], line 1\u001b[0m\n\u001b[0;32m----> 1\u001b[0m nan_filler(test)\u001b[39m.\u001b[39;49mfill_unavailable([\u001b[39m'\u001b[39m\u001b[39mRace\u001b[39m\u001b[39m'\u001b[39m, \u001b[39m'\u001b[39m\u001b[39mEducation\u001b[39m\u001b[39m'\u001b[39m])\n",
      "\u001b[0;31mAttributeError\u001b[0m: 'nan_filler' object has no attribute 'fill_unavailable'"
     ]
    }
   ],
   "source": [
    "nan_filler(test).fill_unavailable(['Race', 'Education'])"
   ]
  },
  {
   "cell_type": "code",
   "execution_count": null,
   "metadata": {},
   "outputs": [],
   "source": [
    "train = nan_dropper(train).drop_nan(['otherdetails', 'Race', 'Education'])\n",
    "test = nan_dropper(test).drop_nan(['otherdetails', 'Race', 'Education'])"
   ]
  },
  {
   "cell_type": "code",
   "execution_count": null,
   "metadata": {},
   "outputs": [],
   "source": [
    "test = nan_filler(test).fill_means(['otherdetails', 'Race', 'Education'])"
   ]
  },
  {
   "cell_type": "code",
   "execution_count": null,
   "metadata": {},
   "outputs": [],
   "source": []
  },
  {
   "cell_type": "code",
   "execution_count": null,
   "metadata": {},
   "outputs": [],
   "source": []
  }
 ],
 "metadata": {
  "kernelspec": {
   "display_name": "Python 3.8.10 ('.venv': venv)",
   "language": "python",
   "name": "python3"
  },
  "language_info": {
   "codemirror_mode": {
    "name": "ipython",
    "version": 3
   },
   "file_extension": ".py",
   "mimetype": "text/x-python",
   "name": "python",
   "nbconvert_exporter": "python",
   "pygments_lexer": "ipython3",
   "version": "3.8.10"
  },
  "orig_nbformat": 4,
  "vscode": {
   "interpreter": {
    "hash": "b6f49ba85018e89f7c54b5771786c8d00e0df137ba03b00f974b4a2e33dcc7e6"
   }
  }
 },
 "nbformat": 4,
 "nbformat_minor": 2
}
