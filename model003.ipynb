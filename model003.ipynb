{
 "cells": [
  {
   "cell_type": "code",
   "execution_count": 1,
   "metadata": {},
   "outputs": [
    {
     "ename": "ModuleNotFoundError",
     "evalue": "No module named 'learnlibs'",
     "output_type": "error",
     "traceback": [
      "\u001b[0;31m---------------------------------------------------------------------------\u001b[0m",
      "\u001b[0;31mModuleNotFoundError\u001b[0m                       Traceback (most recent call last)",
      "Cell \u001b[0;32mIn [1], line 6\u001b[0m\n\u001b[1;32m      4\u001b[0m \u001b[39mfrom\u001b[39;00m \u001b[39msrc\u001b[39;00m\u001b[39m.\u001b[39;00m\u001b[39mlearnlibs\u001b[39;00m\u001b[39m.\u001b[39;00m\u001b[39mread_data\u001b[39;00m \u001b[39mimport\u001b[39;00m \u001b[39m*\u001b[39m\n\u001b[1;32m      5\u001b[0m \u001b[39mfrom\u001b[39;00m \u001b[39msrc\u001b[39;00m\u001b[39m.\u001b[39;00m\u001b[39mlearnlibs\u001b[39;00m\u001b[39m.\u001b[39;00m\u001b[39mfeaturetransf\u001b[39;00m \u001b[39mimport\u001b[39;00m \u001b[39m*\u001b[39m\n\u001b[0;32m----> 6\u001b[0m \u001b[39mfrom\u001b[39;00m \u001b[39mlearnlibs\u001b[39;00m \u001b[39mimport\u001b[39;00m \u001b[39m*\u001b[39m\n",
      "\u001b[0;31mModuleNotFoundError\u001b[0m: No module named 'learnlibs'"
     ]
    }
   ],
   "source": [
    "from src.learnlibs.preproc import *\n",
    "from src.learnlibs.meanfill import *\n",
    "from src.learnlibs.model import *\n",
    "from src.learnlibs.read_data import *\n",
    "from src.learnlibs.featuretransf import *"
   ]
  },
  {
   "cell_type": "code",
   "execution_count": 6,
   "metadata": {},
   "outputs": [
    {
     "name": "stdout",
     "output_type": "stream",
     "text": [
      "((43849, 28), (18793, 28))\n"
     ]
    }
   ],
   "source": [
    "df = loader(\"Levels_Fyi_Salary_Data.csv\")\n",
    "train, test = df.split()\n",
    "print(f'{train.shape, test.shape}')"
   ]
  },
  {
   "cell_type": "code",
   "execution_count": 3,
   "metadata": {},
   "outputs": [
    {
     "name": "stdout",
     "output_type": "stream",
     "text": [
      "<class 'pandas.core.frame.DataFrame'>\n",
      "Index: 62642 entries, 6/7/2017 11:33:27 to 1/29/2019 5:12:59\n",
      "Data columns (total 28 columns):\n",
      " #   Column                   Non-Null Count  Dtype  \n",
      "---  ------                   --------------  -----  \n",
      " 0   company                  62637 non-null  object \n",
      " 1   level                    62523 non-null  object \n",
      " 2   title                    62642 non-null  object \n",
      " 3   totalyearlycompensation  62642 non-null  int64  \n",
      " 4   location                 62642 non-null  object \n",
      " 5   yearsofexperience        62642 non-null  float64\n",
      " 6   yearsatcompany           62642 non-null  float64\n",
      " 7   tag                      61788 non-null  object \n",
      " 8   basesalary               62642 non-null  float64\n",
      " 9   stockgrantvalue          62642 non-null  float64\n",
      " 10  bonus                    62642 non-null  float64\n",
      " 11  gender                   43102 non-null  object \n",
      " 12  otherdetails             40137 non-null  object \n",
      " 13  cityid                   62642 non-null  int64  \n",
      " 14  dmaid                    62640 non-null  float64\n",
      " 15  rowNumber                62642 non-null  int64  \n",
      " 16  Masters_Degree           62642 non-null  int64  \n",
      " 17  Bachelors_Degree         62642 non-null  int64  \n",
      " 18  Doctorate_Degree         62642 non-null  int64  \n",
      " 19  Highschool               62642 non-null  int64  \n",
      " 20  Some_College             62642 non-null  int64  \n",
      " 21  Race_Asian               62642 non-null  int64  \n",
      " 22  Race_White               62642 non-null  int64  \n",
      " 23  Race_Two_Or_More         62642 non-null  int64  \n",
      " 24  Race_Black               62642 non-null  int64  \n",
      " 25  Race_Hispanic            62642 non-null  int64  \n",
      " 26  Race                     22427 non-null  object \n",
      " 27  Education                30370 non-null  object \n",
      "dtypes: float64(6), int64(13), object(9)\n",
      "memory usage: 13.9+ MB\n"
     ]
    }
   ],
   "source": [
    "df.info()"
   ]
  },
  {
   "cell_type": "code",
   "execution_count": 14,
   "metadata": {},
   "outputs": [
    {
     "ename": "AttributeError",
     "evalue": "'nan_filler' object has no attribute 'fill_unavailable'",
     "output_type": "error",
     "traceback": [
      "\u001b[0;31m---------------------------------------------------------------------------\u001b[0m",
      "\u001b[0;31mAttributeError\u001b[0m                            Traceback (most recent call last)",
      "Cell \u001b[0;32mIn [14], line 2\u001b[0m\n\u001b[1;32m      1\u001b[0m a\u001b[39m=\u001b[39mnan_filler(test)\n\u001b[0;32m----> 2\u001b[0m a\u001b[39m.\u001b[39;49mfill_unavailable()\n",
      "\u001b[0;31mAttributeError\u001b[0m: 'nan_filler' object has no attribute 'fill_unavailable'"
     ]
    }
   ],
   "source": [
    "a=nan_filler(test)\n",
    "a.fill_unavailable()"
   ]
  },
  {
   "cell_type": "code",
   "execution_count": 9,
   "metadata": {},
   "outputs": [
    {
     "ename": "AttributeError",
     "evalue": "'nan_filler' object has no attribute 'fill_unavailable'",
     "output_type": "error",
     "traceback": [
      "\u001b[0;31m---------------------------------------------------------------------------\u001b[0m",
      "\u001b[0;31mAttributeError\u001b[0m                            Traceback (most recent call last)",
      "Cell \u001b[0;32mIn [9], line 1\u001b[0m\n\u001b[0;32m----> 1\u001b[0m nan_filler(test)\u001b[39m.\u001b[39;49mfill_unavailable([\u001b[39m'\u001b[39m\u001b[39mRace\u001b[39m\u001b[39m'\u001b[39m, \u001b[39m'\u001b[39m\u001b[39mEducation\u001b[39m\u001b[39m'\u001b[39m])\n",
      "\u001b[0;31mAttributeError\u001b[0m: 'nan_filler' object has no attribute 'fill_unavailable'"
     ]
    }
   ],
   "source": [
    "nan_filler(test).fill_unavailable(['Race', 'Education'])"
   ]
  },
  {
   "cell_type": "code",
   "execution_count": null,
   "metadata": {},
   "outputs": [],
   "source": [
    "train = nan_dropper(train).drop_nan(['otherdetails', 'Race', 'Education'])\n",
    "test = nan_dropper(test).drop_nan(['otherdetails', 'Race', 'Education'])"
   ]
  },
  {
   "cell_type": "code",
   "execution_count": null,
   "metadata": {},
   "outputs": [],
   "source": [
    "test = nan_filler(test).fill_means(['otherdetails', 'Race', 'Education'])"
   ]
  },
  {
   "cell_type": "code",
   "execution_count": null,
   "metadata": {},
   "outputs": [],
   "source": []
  },
  {
   "cell_type": "code",
   "execution_count": null,
   "metadata": {},
   "outputs": [],
   "source": []
  }
 ],
 "metadata": {
  "kernelspec": {
   "display_name": "Python 3.9.15 ('hw5_computingds')",
   "language": "python",
   "name": "python3"
  },
  "language_info": {
   "codemirror_mode": {
    "name": "ipython",
    "version": 3
   },
   "file_extension": ".py",
   "mimetype": "text/x-python",
   "name": "python",
   "nbconvert_exporter": "python",
   "pygments_lexer": "ipython3",
   "version": "3.9.15"
  },
  "orig_nbformat": 4,
  "vscode": {
   "interpreter": {
    "hash": "fed35f12098d28442b185e820a3002a0975d2f09e9994265877147a434e94588"
   }
  }
 },
 "nbformat": 4,
 "nbformat_minor": 2
}
