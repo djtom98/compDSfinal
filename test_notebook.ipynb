{
 "cells": [
  {
   "cell_type": "code",
   "execution_count": 1,
   "metadata": {},
   "outputs": [],
   "source": [
    "from src.learnlibs.dropna import *\n",
    "from src.learnlibs.meanfill import *\n",
    "from src.learnlibs.model import *\n",
    "from src.learnlibs.read_data import *\n",
    "from src.learnlibs.transf import *"
   ]
  },
  {
   "cell_type": "code",
   "execution_count": 10,
   "metadata": {},
   "outputs": [],
   "source": [
    "df_test = pd.DataFrame(np.random.randn(5, 3), \n",
    "                  index=['a', 'b', 'c', 'd', 'e'],\n",
    "                  columns=['one', 'two', 'three'])\n",
    "\n",
    "rows = pd.Series([True, False, False, False, True], index = df_test.index)"
   ]
  },
  {
   "cell_type": "code",
   "execution_count": 11,
   "metadata": {},
   "outputs": [],
   "source": [
    "df_test.loc[rows, df_test.columns.difference(['two'])] = np.nan"
   ]
  },
  {
   "cell_type": "code",
   "execution_count": 8,
   "metadata": {},
   "outputs": [
    {
     "name": "stderr",
     "output_type": "stream",
     "text": [
      "/Users/lucascosta/opt/anaconda3/envs/hw5_computingds/lib/python3.9/site-packages/pandas/core/arraylike.py:402: RuntimeWarning: invalid value encountered in log\n",
      "  result = getattr(ufunc, method)(*inputs, **kwargs)\n"
     ]
    },
    {
     "data": {
      "text/html": [
       "<div>\n",
       "<style scoped>\n",
       "    .dataframe tbody tr th:only-of-type {\n",
       "        vertical-align: middle;\n",
       "    }\n",
       "\n",
       "    .dataframe tbody tr th {\n",
       "        vertical-align: top;\n",
       "    }\n",
       "\n",
       "    .dataframe thead th {\n",
       "        text-align: right;\n",
       "    }\n",
       "</style>\n",
       "<table border=\"1\" class=\"dataframe\">\n",
       "  <thead>\n",
       "    <tr style=\"text-align: right;\">\n",
       "      <th></th>\n",
       "      <th>one</th>\n",
       "      <th>two</th>\n",
       "      <th>three</th>\n",
       "    </tr>\n",
       "  </thead>\n",
       "  <tbody>\n",
       "    <tr>\n",
       "      <th>a</th>\n",
       "      <td>NaN</td>\n",
       "      <td>NaN</td>\n",
       "      <td>NaN</td>\n",
       "    </tr>\n",
       "    <tr>\n",
       "      <th>b</th>\n",
       "      <td>0.313162</td>\n",
       "      <td>-0.446480</td>\n",
       "      <td>-0.086744</td>\n",
       "    </tr>\n",
       "    <tr>\n",
       "      <th>c</th>\n",
       "      <td>0.002938</td>\n",
       "      <td>NaN</td>\n",
       "      <td>-0.227456</td>\n",
       "    </tr>\n",
       "    <tr>\n",
       "      <th>d</th>\n",
       "      <td>-0.380477</td>\n",
       "      <td>-3.098796</td>\n",
       "      <td>1.332976</td>\n",
       "    </tr>\n",
       "    <tr>\n",
       "      <th>e</th>\n",
       "      <td>NaN</td>\n",
       "      <td>-0.990936</td>\n",
       "      <td>NaN</td>\n",
       "    </tr>\n",
       "  </tbody>\n",
       "</table>\n",
       "</div>"
      ],
      "text/plain": [
       "        one       two     three\n",
       "a       NaN       NaN       NaN\n",
       "b  0.313162 -0.446480 -0.086744\n",
       "c  0.002938       NaN -0.227456\n",
       "d -0.380477 -3.098796  1.332976\n",
       "e       NaN -0.990936       NaN"
      ]
     },
     "execution_count": 8,
     "metadata": {},
     "output_type": "execute_result"
    }
   ],
   "source": [
    "\n",
    "log_tf = log_transform(df_test, ['two'])\n",
    "log_tf = log_tf.apply_transform()\n",
    "\n",
    "\n",
    "df_test['two'] = log_tf\n",
    "df_test"
   ]
  },
  {
   "cell_type": "code",
   "execution_count": 3,
   "metadata": {},
   "outputs": [
    {
     "name": "stdout",
     "output_type": "stream",
     "text": [
      "((43849, 28), (18793, 28))\n"
     ]
    }
   ],
   "source": [
    "df = loader(\"Levels_Fyi_Salary_Data.csv\").load()\n",
    "train, test = loader(\"Levels_Fyi_Salary_Data.csv\").split()\n",
    "print(f'{train.shape, test.shape}')\n",
    "\n"
   ]
  },
  {
   "cell_type": "code",
   "execution_count": 4,
   "metadata": {},
   "outputs": [
    {
     "ename": "KeyError",
     "evalue": "['age', 'ethnicity']",
     "output_type": "error",
     "traceback": [
      "\u001b[0;31m---------------------------------------------------------------------------\u001b[0m",
      "\u001b[0;31mKeyError\u001b[0m                                  Traceback (most recent call last)",
      "Cell \u001b[0;32mIn [4], line 1\u001b[0m\n\u001b[0;32m----> 1\u001b[0m train \u001b[39m=\u001b[39m nan_dropper(train)\u001b[39m.\u001b[39;49mdrop_nan([\u001b[39m'\u001b[39;49m\u001b[39mage\u001b[39;49m\u001b[39m'\u001b[39;49m, \u001b[39m'\u001b[39;49m\u001b[39mgender\u001b[39;49m\u001b[39m'\u001b[39;49m, \u001b[39m'\u001b[39;49m\u001b[39methnicity\u001b[39;49m\u001b[39m'\u001b[39;49m])\n\u001b[1;32m      2\u001b[0m test \u001b[39m=\u001b[39m nan_dropper(test)\u001b[39m.\u001b[39mdrop_nan([\u001b[39m'\u001b[39m\u001b[39mage\u001b[39m\u001b[39m'\u001b[39m, \u001b[39m'\u001b[39m\u001b[39mgender\u001b[39m\u001b[39m'\u001b[39m, \u001b[39m'\u001b[39m\u001b[39methnicity\u001b[39m\u001b[39m'\u001b[39m])\n",
      "File \u001b[0;32m~/Library/CloudStorage/OneDrive-Pessoal/Mestrado_DSDM/Term_1/Computing_for_Data_Science/Final_project/compDSfinal/src/learnlibs/transf.py:85\u001b[0m, in \u001b[0;36mnan_dropper.drop_nan\u001b[0;34m(self, col)\u001b[0m\n\u001b[1;32m     72\u001b[0m \u001b[39mdef\u001b[39;00m \u001b[39mdrop_nan\u001b[39m(\u001b[39mself\u001b[39m, col):\n\u001b[1;32m     74\u001b[0m     \u001b[39m'''\u001b[39;00m\n\u001b[1;32m     75\u001b[0m \u001b[39m    Remove those rows that contain NaN values in the given columns.\u001b[39;00m\n\u001b[1;32m     76\u001b[0m \u001b[39m    \u001b[39;00m\n\u001b[0;32m   (...)\u001b[0m\n\u001b[1;32m     82\u001b[0m \u001b[39m            cleaned_df: dataframe with removed rows in target columns\u001b[39;00m\n\u001b[1;32m     83\u001b[0m \u001b[39m    '''\u001b[39;00m\n\u001b[0;32m---> 85\u001b[0m     \u001b[39mself\u001b[39m\u001b[39m.\u001b[39mcleaned_df \u001b[39m=\u001b[39m \u001b[39mself\u001b[39;49m\u001b[39m.\u001b[39;49mdf\u001b[39m.\u001b[39;49mdropna(axis\u001b[39m=\u001b[39;49m\u001b[39m0\u001b[39;49m, subset\u001b[39m=\u001b[39;49mcol, how\u001b[39m=\u001b[39;49m\u001b[39m'\u001b[39;49m\u001b[39many\u001b[39;49m\u001b[39m'\u001b[39;49m)\n\u001b[1;32m     86\u001b[0m     \u001b[39mreturn\u001b[39;00m \u001b[39mself\u001b[39m\u001b[39m.\u001b[39mcleaned_df\n",
      "File \u001b[0;32m~/opt/anaconda3/envs/hw5_computingds/lib/python3.9/site-packages/pandas/util/_decorators.py:331\u001b[0m, in \u001b[0;36mdeprecate_nonkeyword_arguments.<locals>.decorate.<locals>.wrapper\u001b[0;34m(*args, **kwargs)\u001b[0m\n\u001b[1;32m    325\u001b[0m \u001b[39mif\u001b[39;00m \u001b[39mlen\u001b[39m(args) \u001b[39m>\u001b[39m num_allow_args:\n\u001b[1;32m    326\u001b[0m     warnings\u001b[39m.\u001b[39mwarn(\n\u001b[1;32m    327\u001b[0m         msg\u001b[39m.\u001b[39mformat(arguments\u001b[39m=\u001b[39m_format_argument_list(allow_args)),\n\u001b[1;32m    328\u001b[0m         \u001b[39mFutureWarning\u001b[39;00m,\n\u001b[1;32m    329\u001b[0m         stacklevel\u001b[39m=\u001b[39mfind_stack_level(),\n\u001b[1;32m    330\u001b[0m     )\n\u001b[0;32m--> 331\u001b[0m \u001b[39mreturn\u001b[39;00m func(\u001b[39m*\u001b[39;49margs, \u001b[39m*\u001b[39;49m\u001b[39m*\u001b[39;49mkwargs)\n",
      "File \u001b[0;32m~/opt/anaconda3/envs/hw5_computingds/lib/python3.9/site-packages/pandas/core/frame.py:6550\u001b[0m, in \u001b[0;36mDataFrame.dropna\u001b[0;34m(self, axis, how, thresh, subset, inplace)\u001b[0m\n\u001b[1;32m   6548\u001b[0m     check \u001b[39m=\u001b[39m indices \u001b[39m==\u001b[39m \u001b[39m-\u001b[39m\u001b[39m1\u001b[39m\n\u001b[1;32m   6549\u001b[0m     \u001b[39mif\u001b[39;00m check\u001b[39m.\u001b[39many():\n\u001b[0;32m-> 6550\u001b[0m         \u001b[39mraise\u001b[39;00m \u001b[39mKeyError\u001b[39;00m(np\u001b[39m.\u001b[39marray(subset)[check]\u001b[39m.\u001b[39mtolist())\n\u001b[1;32m   6551\u001b[0m     agg_obj \u001b[39m=\u001b[39m \u001b[39mself\u001b[39m\u001b[39m.\u001b[39mtake(indices, axis\u001b[39m=\u001b[39magg_axis)\n\u001b[1;32m   6553\u001b[0m \u001b[39mif\u001b[39;00m thresh \u001b[39mis\u001b[39;00m \u001b[39mnot\u001b[39;00m no_default:\n",
      "\u001b[0;31mKeyError\u001b[0m: ['age', 'ethnicity']"
     ]
    }
   ],
   "source": [
    "\n",
    "\n",
    "train = nan_dropper(train).drop_nan(['age', 'gender', 'ethnicity'])\n",
    "test = nan_dropper(test).drop_nan(['age', 'gender', 'ethnicity'])"
   ]
  }
 ],
 "metadata": {
  "kernelspec": {
   "display_name": "Python 3.9.15 ('hw5_computingds')",
   "language": "python",
   "name": "python3"
  },
  "language_info": {
   "codemirror_mode": {
    "name": "ipython",
    "version": 3
   },
   "file_extension": ".py",
   "mimetype": "text/x-python",
   "name": "python",
   "nbconvert_exporter": "python",
   "pygments_lexer": "ipython3",
   "version": "3.9.15"
  },
  "orig_nbformat": 4,
  "vscode": {
   "interpreter": {
    "hash": "fed35f12098d28442b185e820a3002a0975d2f09e9994265877147a434e94588"
   }
  }
 },
 "nbformat": 4,
 "nbformat_minor": 2
}
